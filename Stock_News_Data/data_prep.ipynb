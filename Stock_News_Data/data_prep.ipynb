{
 "cells": [
  {
   "cell_type": "code",
   "execution_count": 13,
   "metadata": {},
   "outputs": [],
   "source": [
    "from os import listdir\n",
    "import pandas as pd "
   ]
  },
  {
   "cell_type": "code",
   "execution_count": 27,
   "metadata": {},
   "outputs": [],
   "source": [
    "df = pd.read_csv('pct_change_stocks.csv')\n",
    "\n",
    "for i in os.listdir():\n",
    "    if 'csv' in i: \n",
    "        df = df.append(pd.read_csv(i))\n",
    "    \n",
    "df = df.set_index('date')"
   ]
  },
  {
   "cell_type": "code",
   "execution_count": 33,
   "metadata": {},
   "outputs": [
    {
     "data": {
      "text/html": [
       "<div>\n",
       "<style scoped>\n",
       "    .dataframe tbody tr th:only-of-type {\n",
       "        vertical-align: middle;\n",
       "    }\n",
       "\n",
       "    .dataframe tbody tr th {\n",
       "        vertical-align: top;\n",
       "    }\n",
       "\n",
       "    .dataframe thead th {\n",
       "        text-align: right;\n",
       "    }\n",
       "</style>\n",
       "<table border=\"1\" class=\"dataframe\">\n",
       "  <thead>\n",
       "    <tr style=\"text-align: right;\">\n",
       "      <th></th>\n",
       "      <th>time_delta</th>\n",
       "      <th>pct_change</th>\n",
       "    </tr>\n",
       "  </thead>\n",
       "  <tbody>\n",
       "    <tr>\n",
       "      <th>count</th>\n",
       "      <td>831.000000</td>\n",
       "      <td>831.000000</td>\n",
       "    </tr>\n",
       "    <tr>\n",
       "      <th>mean</th>\n",
       "      <td>14.302046</td>\n",
       "      <td>8.316644</td>\n",
       "    </tr>\n",
       "    <tr>\n",
       "      <th>std</th>\n",
       "      <td>10.376246</td>\n",
       "      <td>11.548406</td>\n",
       "    </tr>\n",
       "    <tr>\n",
       "      <th>min</th>\n",
       "      <td>1.000000</td>\n",
       "      <td>-11.067195</td>\n",
       "    </tr>\n",
       "    <tr>\n",
       "      <th>25%</th>\n",
       "      <td>4.000000</td>\n",
       "      <td>1.828057</td>\n",
       "    </tr>\n",
       "    <tr>\n",
       "      <th>50%</th>\n",
       "      <td>14.000000</td>\n",
       "      <td>4.595187</td>\n",
       "    </tr>\n",
       "    <tr>\n",
       "      <th>75%</th>\n",
       "      <td>26.000000</td>\n",
       "      <td>10.207615</td>\n",
       "    </tr>\n",
       "    <tr>\n",
       "      <th>max</th>\n",
       "      <td>29.000000</td>\n",
       "      <td>85.959878</td>\n",
       "    </tr>\n",
       "  </tbody>\n",
       "</table>\n",
       "</div>"
      ],
      "text/plain": [
       "       time_delta  pct_change\n",
       "count  831.000000  831.000000\n",
       "mean    14.302046    8.316644\n",
       "std     10.376246   11.548406\n",
       "min      1.000000  -11.067195\n",
       "25%      4.000000    1.828057\n",
       "50%     14.000000    4.595187\n",
       "75%     26.000000   10.207615\n",
       "max     29.000000   85.959878"
      ]
     },
     "execution_count": 33,
     "metadata": {},
     "output_type": "execute_result"
    }
   ],
   "source": [
    "df.describe()"
   ]
  },
  {
   "cell_type": "code",
   "execution_count": 53,
   "metadata": {},
   "outputs": [],
   "source": [
    "df['norm_pct_change'] = df['pct_change'].div(df['pct_change'].max())\n",
    "df['norm_time_delta'] = df['time_delta'].div(df['time_delta'].max())"
   ]
  },
  {
   "cell_type": "code",
   "execution_count": 55,
   "metadata": {},
   "outputs": [
    {
     "data": {
      "text/html": [
       "<div>\n",
       "<style scoped>\n",
       "    .dataframe tbody tr th:only-of-type {\n",
       "        vertical-align: middle;\n",
       "    }\n",
       "\n",
       "    .dataframe tbody tr th {\n",
       "        vertical-align: top;\n",
       "    }\n",
       "\n",
       "    .dataframe thead th {\n",
       "        text-align: right;\n",
       "    }\n",
       "</style>\n",
       "<table border=\"1\" class=\"dataframe\">\n",
       "  <thead>\n",
       "    <tr style=\"text-align: right;\">\n",
       "      <th></th>\n",
       "      <th>content</th>\n",
       "      <th>norm_pct_change</th>\n",
       "      <th>norm_time_delta</th>\n",
       "    </tr>\n",
       "    <tr>\n",
       "      <th>date</th>\n",
       "      <th></th>\n",
       "      <th></th>\n",
       "      <th></th>\n",
       "    </tr>\n",
       "  </thead>\n",
       "  <tbody>\n",
       "    <tr>\n",
       "      <th>December 19, 2018</th>\n",
       "      <td>100 days to Brexit, EU tells L...</td>\n",
       "      <td>-0.021475</td>\n",
       "      <td>0.482759</td>\n",
       "    </tr>\n",
       "    <tr>\n",
       "      <th>May 15, 2020</th>\n",
       "      <td>Foxconn quarterly profit hits ...</td>\n",
       "      <td>0.170619</td>\n",
       "      <td>0.896552</td>\n",
       "    </tr>\n",
       "    <tr>\n",
       "      <th>August 31, 2018</th>\n",
       "      <td>Wall Street mixed as U.S.-Cana...</td>\n",
       "      <td>0.003731</td>\n",
       "      <td>0.137931</td>\n",
       "    </tr>\n",
       "    <tr>\n",
       "      <th>January 30, 2019</th>\n",
       "      <td>iPhone suppliers rise after Ap...</td>\n",
       "      <td>0.067723</td>\n",
       "      <td>0.965517</td>\n",
       "    </tr>\n",
       "    <tr>\n",
       "      <th>June 3, 2019</th>\n",
       "      <td>Apple dips on news of DoJ anti...</td>\n",
       "      <td>0.197559</td>\n",
       "      <td>1.000000</td>\n",
       "    </tr>\n",
       "    <tr>\n",
       "      <th>...</th>\n",
       "      <td>...</td>\n",
       "      <td>...</td>\n",
       "      <td>...</td>\n",
       "    </tr>\n",
       "    <tr>\n",
       "      <th>March 5, 2020</th>\n",
       "      <td>Russia's car sales fall 2.2% i...</td>\n",
       "      <td>-0.003776</td>\n",
       "      <td>0.034483</td>\n",
       "    </tr>\n",
       "    <tr>\n",
       "      <th>April 8, 2020</th>\n",
       "      <td>Russia car sales in March up 4...</td>\n",
       "      <td>0.065728</td>\n",
       "      <td>0.206897</td>\n",
       "    </tr>\n",
       "    <tr>\n",
       "      <th>May 12, 2020</th>\n",
       "      <td>Russia car sales plunge 72.4% ...</td>\n",
       "      <td>0.120550</td>\n",
       "      <td>0.793103</td>\n",
       "    </tr>\n",
       "    <tr>\n",
       "      <th>July 7, 2020</th>\n",
       "      <td>Russia's June new car sales fa...</td>\n",
       "      <td>0.056391</td>\n",
       "      <td>0.482759</td>\n",
       "    </tr>\n",
       "    <tr>\n",
       "      <th>July 24, 2018</th>\n",
       "      <td>Reuters Leadership - ReutersDi...</td>\n",
       "      <td>0.009780</td>\n",
       "      <td>1.000000</td>\n",
       "    </tr>\n",
       "  </tbody>\n",
       "</table>\n",
       "<p>831 rows × 3 columns</p>\n",
       "</div>"
      ],
      "text/plain": [
       "                                                             content  \\\n",
       "date                                                                   \n",
       "December 19, 2018                  100 days to Brexit, EU tells L...   \n",
       "May 15, 2020                       Foxconn quarterly profit hits ...   \n",
       "August 31, 2018                    Wall Street mixed as U.S.-Cana...   \n",
       "January 30, 2019                   iPhone suppliers rise after Ap...   \n",
       "June 3, 2019                       Apple dips on news of DoJ anti...   \n",
       "...                                                              ...   \n",
       "March 5, 2020                      Russia's car sales fall 2.2% i...   \n",
       "April 8, 2020                      Russia car sales in March up 4...   \n",
       "May 12, 2020                       Russia car sales plunge 72.4% ...   \n",
       "July 7, 2020                       Russia's June new car sales fa...   \n",
       "July 24, 2018                      Reuters Leadership - ReutersDi...   \n",
       "\n",
       "                   norm_pct_change  norm_time_delta  \n",
       "date                                                 \n",
       "December 19, 2018        -0.021475         0.482759  \n",
       "May 15, 2020              0.170619         0.896552  \n",
       "August 31, 2018           0.003731         0.137931  \n",
       "January 30, 2019          0.067723         0.965517  \n",
       "June 3, 2019              0.197559         1.000000  \n",
       "...                            ...              ...  \n",
       "March 5, 2020            -0.003776         0.034483  \n",
       "April 8, 2020             0.065728         0.206897  \n",
       "May 12, 2020              0.120550         0.793103  \n",
       "July 7, 2020              0.056391         0.482759  \n",
       "July 24, 2018             0.009780         1.000000  \n",
       "\n",
       "[831 rows x 3 columns]"
      ]
     },
     "execution_count": 55,
     "metadata": {},
     "output_type": "execute_result"
    }
   ],
   "source": [
    "df[['content','norm_pct_change', 'norm_time_delta']]"
   ]
  },
  {
   "cell_type": "code",
   "execution_count": 64,
   "metadata": {},
   "outputs": [
    {
     "data": {
      "text/plain": [
       "date\n",
       "December 19, 2018    5515\n",
       "May 15, 2020         4152\n",
       "August 31, 2018      4271\n",
       "January 30, 2019     2115\n",
       "June 3, 2019         1956\n",
       "                     ... \n",
       "March 5, 2020        1465\n",
       "April 8, 2020        1546\n",
       "May 12, 2020         1897\n",
       "July 7, 2020         1462\n",
       "July 24, 2018        2062\n",
       "Name: content, Length: 831, dtype: int64"
      ]
     },
     "execution_count": 64,
     "metadata": {},
     "output_type": "execute_result"
    }
   ],
   "source": [
    "df.content.map(len)\n",
    "#do i need to add padding to even out the length? YES"
   ]
  },
  {
   "cell_type": "code",
   "execution_count": 65,
   "metadata": {},
   "outputs": [],
   "source": [
    "from nltk.sentiment.vader import SentimentIntensityAnalyzer\n"
   ]
  },
  {
   "cell_type": "code",
   "execution_count": 70,
   "metadata": {},
   "outputs": [],
   "source": [
    "analyzer = SentimentIntensityAnalyzer()\n",
    "sentiment = df.content.apply(analyzer.polarity_scores).tolist()"
   ]
  },
  {
   "cell_type": "code",
   "execution_count": 86,
   "metadata": {},
   "outputs": [
    {
     "data": {
      "text/plain": [
       "-0.9997"
      ]
     },
     "execution_count": 86,
     "metadata": {},
     "output_type": "execute_result"
    }
   ],
   "source": [
    "compound = [i['compound'] for i in sentiment]"
   ]
  },
  {
   "cell_type": "code",
   "execution_count": 89,
   "metadata": {},
   "outputs": [
    {
     "data": {
      "text/html": [
       "<div>\n",
       "<style scoped>\n",
       "    .dataframe tbody tr th:only-of-type {\n",
       "        vertical-align: middle;\n",
       "    }\n",
       "\n",
       "    .dataframe tbody tr th {\n",
       "        vertical-align: top;\n",
       "    }\n",
       "\n",
       "    .dataframe thead th {\n",
       "        text-align: right;\n",
       "    }\n",
       "</style>\n",
       "<table border=\"1\" class=\"dataframe\">\n",
       "  <thead>\n",
       "    <tr style=\"text-align: right;\">\n",
       "      <th>date</th>\n",
       "      <th>December 19, 2018</th>\n",
       "      <th>May 15, 2020</th>\n",
       "      <th>August 31, 2018</th>\n",
       "      <th>January 30, 2019</th>\n",
       "      <th>June 3, 2019</th>\n",
       "    </tr>\n",
       "  </thead>\n",
       "  <tbody>\n",
       "    <tr>\n",
       "      <th>ticker</th>\n",
       "      <td>aapl</td>\n",
       "      <td>aapl</td>\n",
       "      <td>aapl</td>\n",
       "      <td>aapl</td>\n",
       "      <td>aapl</td>\n",
       "    </tr>\n",
       "    <tr>\n",
       "      <th>content</th>\n",
       "      <td>100 days to Brexit, EU tells L...</td>\n",
       "      <td>Foxconn quarterly profit hits ...</td>\n",
       "      <td>Wall Street mixed as U.S.-Cana...</td>\n",
       "      <td>iPhone suppliers rise after Ap...</td>\n",
       "      <td>Apple dips on news of DoJ anti...</td>\n",
       "    </tr>\n",
       "    <tr>\n",
       "      <th>time_delta</th>\n",
       "      <td>14</td>\n",
       "      <td>26</td>\n",
       "      <td>4</td>\n",
       "      <td>28</td>\n",
       "      <td>29</td>\n",
       "    </tr>\n",
       "    <tr>\n",
       "      <th>pct_change</th>\n",
       "      <td>-1.84598</td>\n",
       "      <td>14.6664</td>\n",
       "      <td>0.320694</td>\n",
       "      <td>5.82148</td>\n",
       "      <td>16.9821</td>\n",
       "    </tr>\n",
       "    <tr>\n",
       "      <th>norm_pct_change</th>\n",
       "      <td>-0.0214749</td>\n",
       "      <td>0.170619</td>\n",
       "      <td>0.00373074</td>\n",
       "      <td>0.0677232</td>\n",
       "      <td>0.197559</td>\n",
       "    </tr>\n",
       "    <tr>\n",
       "      <th>norm_time_delta</th>\n",
       "      <td>0.482759</td>\n",
       "      <td>0.896552</td>\n",
       "      <td>0.137931</td>\n",
       "      <td>0.965517</td>\n",
       "      <td>1</td>\n",
       "    </tr>\n",
       "    <tr>\n",
       "      <th>sentiment</th>\n",
       "      <td>-0.2236</td>\n",
       "      <td>0.8018</td>\n",
       "      <td>0.9928</td>\n",
       "      <td>0.8608</td>\n",
       "      <td>0.6705</td>\n",
       "    </tr>\n",
       "  </tbody>\n",
       "</table>\n",
       "</div>"
      ],
      "text/plain": [
       "date                                             December 19, 2018  \\\n",
       "ticker                                                        aapl   \n",
       "content                          100 days to Brexit, EU tells L...   \n",
       "time_delta                                                      14   \n",
       "pct_change                                                -1.84598   \n",
       "norm_pct_change                                         -0.0214749   \n",
       "norm_time_delta                                           0.482759   \n",
       "sentiment                                                  -0.2236   \n",
       "\n",
       "date                                                  May 15, 2020  \\\n",
       "ticker                                                        aapl   \n",
       "content                          Foxconn quarterly profit hits ...   \n",
       "time_delta                                                      26   \n",
       "pct_change                                                 14.6664   \n",
       "norm_pct_change                                           0.170619   \n",
       "norm_time_delta                                           0.896552   \n",
       "sentiment                                                   0.8018   \n",
       "\n",
       "date                                               August 31, 2018  \\\n",
       "ticker                                                        aapl   \n",
       "content                          Wall Street mixed as U.S.-Cana...   \n",
       "time_delta                                                       4   \n",
       "pct_change                                                0.320694   \n",
       "norm_pct_change                                         0.00373074   \n",
       "norm_time_delta                                           0.137931   \n",
       "sentiment                                                   0.9928   \n",
       "\n",
       "date                                              January 30, 2019  \\\n",
       "ticker                                                        aapl   \n",
       "content                          iPhone suppliers rise after Ap...   \n",
       "time_delta                                                      28   \n",
       "pct_change                                                 5.82148   \n",
       "norm_pct_change                                          0.0677232   \n",
       "norm_time_delta                                           0.965517   \n",
       "sentiment                                                   0.8608   \n",
       "\n",
       "date                                                  June 3, 2019  \n",
       "ticker                                                        aapl  \n",
       "content                          Apple dips on news of DoJ anti...  \n",
       "time_delta                                                      29  \n",
       "pct_change                                                 16.9821  \n",
       "norm_pct_change                                           0.197559  \n",
       "norm_time_delta                                                  1  \n",
       "sentiment                                                   0.6705  "
      ]
     },
     "execution_count": 89,
     "metadata": {},
     "output_type": "execute_result"
    }
   ],
   "source": [
    "df['sentiment'] = compound"
   ]
  },
  {
   "cell_type": "code",
   "execution_count": 92,
   "metadata": {},
   "outputs": [
    {
     "data": {
      "text/html": [
       "<div>\n",
       "<style scoped>\n",
       "    .dataframe tbody tr th:only-of-type {\n",
       "        vertical-align: middle;\n",
       "    }\n",
       "\n",
       "    .dataframe tbody tr th {\n",
       "        vertical-align: top;\n",
       "    }\n",
       "\n",
       "    .dataframe thead th {\n",
       "        text-align: right;\n",
       "    }\n",
       "</style>\n",
       "<table border=\"1\" class=\"dataframe\">\n",
       "  <thead>\n",
       "    <tr style=\"text-align: right;\">\n",
       "      <th></th>\n",
       "      <th>ticker</th>\n",
       "      <th>content</th>\n",
       "      <th>time_delta</th>\n",
       "      <th>pct_change</th>\n",
       "      <th>norm_pct_change</th>\n",
       "      <th>norm_time_delta</th>\n",
       "      <th>sentiment</th>\n",
       "    </tr>\n",
       "    <tr>\n",
       "      <th>date</th>\n",
       "      <th></th>\n",
       "      <th></th>\n",
       "      <th></th>\n",
       "      <th></th>\n",
       "      <th></th>\n",
       "      <th></th>\n",
       "      <th></th>\n",
       "    </tr>\n",
       "  </thead>\n",
       "  <tbody>\n",
       "    <tr>\n",
       "      <th>December 19, 2018</th>\n",
       "      <td>aapl</td>\n",
       "      <td>100 days to Brexit, EU tells L...</td>\n",
       "      <td>14</td>\n",
       "      <td>-1.845982</td>\n",
       "      <td>-0.021475</td>\n",
       "      <td>0.482759</td>\n",
       "      <td>-0.2236</td>\n",
       "    </tr>\n",
       "    <tr>\n",
       "      <th>May 15, 2020</th>\n",
       "      <td>aapl</td>\n",
       "      <td>Foxconn quarterly profit hits ...</td>\n",
       "      <td>26</td>\n",
       "      <td>14.666409</td>\n",
       "      <td>0.170619</td>\n",
       "      <td>0.896552</td>\n",
       "      <td>0.8018</td>\n",
       "    </tr>\n",
       "    <tr>\n",
       "      <th>August 31, 2018</th>\n",
       "      <td>aapl</td>\n",
       "      <td>Wall Street mixed as U.S.-Cana...</td>\n",
       "      <td>4</td>\n",
       "      <td>0.320694</td>\n",
       "      <td>0.003731</td>\n",
       "      <td>0.137931</td>\n",
       "      <td>0.9928</td>\n",
       "    </tr>\n",
       "    <tr>\n",
       "      <th>January 30, 2019</th>\n",
       "      <td>aapl</td>\n",
       "      <td>iPhone suppliers rise after Ap...</td>\n",
       "      <td>28</td>\n",
       "      <td>5.821480</td>\n",
       "      <td>0.067723</td>\n",
       "      <td>0.965517</td>\n",
       "      <td>0.8608</td>\n",
       "    </tr>\n",
       "    <tr>\n",
       "      <th>June 3, 2019</th>\n",
       "      <td>aapl</td>\n",
       "      <td>Apple dips on news of DoJ anti...</td>\n",
       "      <td>29</td>\n",
       "      <td>16.982107</td>\n",
       "      <td>0.197559</td>\n",
       "      <td>1.000000</td>\n",
       "      <td>0.6705</td>\n",
       "    </tr>\n",
       "  </tbody>\n",
       "</table>\n",
       "</div>"
      ],
      "text/plain": [
       "                  ticker                                            content  \\\n",
       "date                                                                          \n",
       "December 19, 2018   aapl                  100 days to Brexit, EU tells L...   \n",
       "May 15, 2020        aapl                  Foxconn quarterly profit hits ...   \n",
       "August 31, 2018     aapl                  Wall Street mixed as U.S.-Cana...   \n",
       "January 30, 2019    aapl                  iPhone suppliers rise after Ap...   \n",
       "June 3, 2019        aapl                  Apple dips on news of DoJ anti...   \n",
       "\n",
       "                   time_delta  pct_change  norm_pct_change  norm_time_delta  \\\n",
       "date                                                                          \n",
       "December 19, 2018          14   -1.845982        -0.021475         0.482759   \n",
       "May 15, 2020               26   14.666409         0.170619         0.896552   \n",
       "August 31, 2018             4    0.320694         0.003731         0.137931   \n",
       "January 30, 2019           28    5.821480         0.067723         0.965517   \n",
       "June 3, 2019               29   16.982107         0.197559         1.000000   \n",
       "\n",
       "                   sentiment  \n",
       "date                          \n",
       "December 19, 2018    -0.2236  \n",
       "May 15, 2020          0.8018  \n",
       "August 31, 2018       0.9928  \n",
       "January 30, 2019      0.8608  \n",
       "June 3, 2019          0.6705  "
      ]
     },
     "execution_count": 92,
     "metadata": {},
     "output_type": "execute_result"
    }
   ],
   "source": [
    "df.head()"
   ]
  },
  {
   "cell_type": "code",
   "execution_count": 94,
   "metadata": {},
   "outputs": [],
   "source": [
    "from nltk.corpus import stopwords\n",
    "import string"
   ]
  },
  {
   "cell_type": "code",
   "execution_count": 132,
   "metadata": {},
   "outputs": [],
   "source": [
    "def clean_doc(content): \n",
    "    tokens = content.split()\n",
    "    table = str.maketrans('','', string.punctuation)\n",
    "    tokens = [w.translate(table) for w in tokens]\n",
    "    tokens = [word for word in tokens if word.isalpha()]\n",
    "    stop_words = set(stopwords.words('english'))\n",
    "    tokens = [w for w in tokens if not w in stop_words]\n",
    "    tokens = [word for word in tokens if len(word)>1]\n",
    "    return tokens "
   ]
  },
  {
   "cell_type": "code",
   "execution_count": 136,
   "metadata": {},
   "outputs": [],
   "source": [
    "clean_content = [clean_doc(df.content[i]) for i in range(len(df.content))]"
   ]
  },
  {
   "cell_type": "code",
   "execution_count": 146,
   "metadata": {},
   "outputs": [
    {
     "ename": "TypeError",
     "evalue": "'builtin_function_or_method' object is not iterable",
     "output_type": "error",
     "traceback": [
      "\u001b[0;31m---------------------------------------------------------------------------\u001b[0m",
      "\u001b[0;31mTypeError\u001b[0m                                 Traceback (most recent call last)",
      "\u001b[0;32m<ipython-input-146-ef7452742d37>\u001b[0m in \u001b[0;36m<module>\u001b[0;34m\u001b[0m\n\u001b[0;32m----> 1\u001b[0;31m \u001b[0mmap\u001b[0m\u001b[0;34m(\u001b[0m\u001b[0mclean_content\u001b[0m\u001b[0;34m,\u001b[0m \u001b[0mlen\u001b[0m\u001b[0;34m)\u001b[0m\u001b[0;34m\u001b[0m\u001b[0;34m\u001b[0m\u001b[0m\n\u001b[0m",
      "\u001b[0;31mTypeError\u001b[0m: 'builtin_function_or_method' object is not iterable"
     ]
    }
   ],
   "source": [
    "map(clean_content, len)"
   ]
  },
  {
   "cell_type": "code",
   "execution_count": 141,
   "metadata": {},
   "outputs": [
    {
     "data": {
      "text/plain": [
       "4766"
      ]
     },
     "execution_count": 141,
     "metadata": {},
     "output_type": "execute_result"
    }
   ],
   "source": [
    "maximum"
   ]
  },
  {
   "cell_type": "code",
   "execution_count": null,
   "metadata": {},
   "outputs": [],
   "source": []
  }
 ],
 "metadata": {
  "kernelspec": {
   "display_name": "Python 3",
   "language": "python",
   "name": "python3"
  },
  "language_info": {
   "codemirror_mode": {
    "name": "ipython",
    "version": 3
   },
   "file_extension": ".py",
   "mimetype": "text/x-python",
   "name": "python",
   "nbconvert_exporter": "python",
   "pygments_lexer": "ipython3",
   "version": "3.7.5"
  }
 },
 "nbformat": 4,
 "nbformat_minor": 4
}
